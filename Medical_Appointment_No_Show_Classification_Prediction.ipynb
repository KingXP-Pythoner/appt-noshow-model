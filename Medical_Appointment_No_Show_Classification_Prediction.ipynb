{
  "cells": [
    {
      "cell_type": "markdown",
      "metadata": {
        "id": "SRN0AsMsAEnz"
      },
      "source": [
        "# Data Mining/Machine Learning Project: Medical Appointments - No Show\n",
        "\n",
        "## Goals\n",
        "1. Given a set of attributes/factors, predict if a person will miss their appointment or not.\n",
        "2. Determine what factors contribute the most to a person missing their appointment.\n",
        "3. Compare the performance of the 2 data mining/analysis methods implemented for this project."
      ]
    },
    {
      "cell_type": "markdown",
      "metadata": {
        "id": "9B5qag8eBvod"
      },
      "source": [
        "##I. Business Understanding\n",
        "\n",
        "Missed appointments are costly on the medical institutions. Therefore, understanding the factors that cause no-shows are vital in the search for potential solutions to these problems. Having the information about the data set have the following benefits:\n",
        "\n",
        "1. Hospital can intelligently send more reminders to patients at a higher risk of missing appointments.\n",
        "2. Understand if the reminder methods (in this case: SMS) are effective or not, and make changes as necessary to the strategies.\n",
        "3. Inform appointment management/scheduling strategy. (More on the day or more routine appointments?)"
      ]
    },
    {
      "cell_type": "markdown",
      "metadata": {
        "id": "sfOJoig3HljX"
      },
      "source": [
        "## II. Data Understanding\n",
        "### Dataset:\n",
        "The dataset contains information about medical appointments and has 14 variables (PatientId, AppointmentID, Gender, DateScheduled, AppointmentDate, Age, Neighborhood, Scholarship, Hypertension, Diabetes, Alcoholism, Handicap, SMSReceived, NoShow).\n",
        "\n",
        "### Tasks:\n",
        "\n",
        "Explore the dataset to understand its structure, size, and features.\n",
        "Check for missing values, outliers, and data types.\n",
        "Understand the distribution of the target variable (NoShow).\n",
        "Explore and analyze the relationships between features and the target variable."
      ]
    },
    {
      "cell_type": "code",
      "execution_count": 18,
      "metadata": {
        "id": "VZAmQYfwNg4g"
      },
      "outputs": [],
      "source": [
        "# Load the required libraries\n",
        "import numpy as np\n",
        "import pandas as pd\n",
        "import matplotlib.pyplot as plt\n"
      ]
    },
    {
      "cell_type": "code",
      "execution_count": 19,
      "metadata": {},
      "outputs": [],
      "source": [
        "# Load the data\n",
        "data = pd.read_csv('medical-appointments-noshow-dataset.csv')\n"
      ]
    },
    {
      "cell_type": "markdown",
      "metadata": {},
      "source": [
        "## Data Size, Dimensionality, Size, Data types\n",
        "The dataset provided by [source] has a 110527 x 14 (mxn) dimensionality. We can identify the following columns and their data types (as nominal, ordinal, or continuous):\n",
        "1. PatientId: nominal\n",
        "2. AppointmentID: nominal\n",
        "3. Gender: nominal\n",
        "4. ScheduledDay: ordinal\n",
        "5. AppointmentDay: ordinal\n",
        "6. Age: continuous\n",
        "7. Neighbourhood: nominal\n",
        "8. Scholarship: nominal\n",
        "9. Hypertension: nominal\n",
        "10. Diabetes: nominal\n",
        "11. Alcoholism: nominal\n",
        "12. Handcap: nominal\n",
        "13. SMS_received: nominal\n",
        "14. No-show: nominal"
      ]
    },
    {
      "cell_type": "code",
      "execution_count": 20,
      "metadata": {},
      "outputs": [
        {
          "name": "stdout",
          "output_type": "stream",
          "text": [
            "<class 'pandas.core.frame.DataFrame'>\n",
            "RangeIndex: 110527 entries, 0 to 110526\n",
            "Data columns (total 14 columns):\n",
            " #   Column          Non-Null Count   Dtype  \n",
            "---  ------          --------------   -----  \n",
            " 0   PatientId       110527 non-null  float64\n",
            " 1   AppointmentID   110527 non-null  int64  \n",
            " 2   Gender          110527 non-null  object \n",
            " 3   ScheduledDay    110527 non-null  object \n",
            " 4   AppointmentDay  110527 non-null  object \n",
            " 5   Age             110527 non-null  int64  \n",
            " 6   Neighbourhood   110527 non-null  object \n",
            " 7   Scholarship     110527 non-null  int64  \n",
            " 8   Hypertension    110527 non-null  int64  \n",
            " 9   Diabetes        110527 non-null  int64  \n",
            " 10  Alcoholism      110527 non-null  int64  \n",
            " 11  Handcap         110527 non-null  int64  \n",
            " 12  SMS_received    110527 non-null  int64  \n",
            " 13  No-show         110527 non-null  object \n",
            "dtypes: float64(1), int64(8), object(5)\n",
            "memory usage: 11.8+ MB\n",
            "None\n",
            "      PatientId  AppointmentID Gender          ScheduledDay  \\\n",
            "0  2.987250e+13        5642903      F  2016-04-29T18:38:08Z   \n",
            "1  5.589978e+14        5642503      M  2016-04-29T16:08:27Z   \n",
            "2  4.262962e+12        5642549      F  2016-04-29T16:19:04Z   \n",
            "3  8.679512e+11        5642828      F  2016-04-29T17:29:31Z   \n",
            "4  8.841186e+12        5642494      F  2016-04-29T16:07:23Z   \n",
            "5  9.598513e+13        5626772      F  2016-04-27T08:36:51Z   \n",
            "6  7.336882e+14        5630279      F  2016-04-27T15:05:12Z   \n",
            "7  3.449833e+12        5630575      F  2016-04-27T15:39:58Z   \n",
            "8  5.639473e+13        5638447      F  2016-04-29T08:02:16Z   \n",
            "9  7.812456e+13        5629123      F  2016-04-27T12:48:25Z   \n",
            "\n",
            "         AppointmentDay  Age      Neighbourhood  Scholarship  Hypertension  \\\n",
            "0  2016-04-29T00:00:00Z   62    JARDIM DA PENHA            0             1   \n",
            "1  2016-04-29T00:00:00Z   56    JARDIM DA PENHA            0             0   \n",
            "2  2016-04-29T00:00:00Z   62      MATA DA PRAIA            0             0   \n",
            "3  2016-04-29T00:00:00Z    8  PONTAL DE CAMBURI            0             0   \n",
            "4  2016-04-29T00:00:00Z   56    JARDIM DA PENHA            0             1   \n",
            "5  2016-04-29T00:00:00Z   76          REPÚBLICA            0             1   \n",
            "6  2016-04-29T00:00:00Z   23         GOIABEIRAS            0             0   \n",
            "7  2016-04-29T00:00:00Z   39         GOIABEIRAS            0             0   \n",
            "8  2016-04-29T00:00:00Z   21         ANDORINHAS            0             0   \n",
            "9  2016-04-29T00:00:00Z   19          CONQUISTA            0             0   \n",
            "\n",
            "   Diabetes  Alcoholism  Handcap  SMS_received No-show  \n",
            "0         0           0        0             0      No  \n",
            "1         0           0        0             0      No  \n",
            "2         0           0        0             0      No  \n",
            "3         0           0        0             0      No  \n",
            "4         1           0        0             0      No  \n",
            "5         0           0        0             0      No  \n",
            "6         0           0        0             0     Yes  \n",
            "7         0           0        0             0     Yes  \n",
            "8         0           0        0             0      No  \n",
            "9         0           0        0             0      No  \n"
          ]
        }
      ],
      "source": [
        "# Rename column Hipertension to Hypertension\n",
        "data.rename(columns={'Hipertension':'Hypertension'}, inplace=True)\n",
        "# Display the column names, data types, and first 10 rows of the data\n",
        "\n",
        "print(data.info())\n",
        "print(data.head(10))\n",
        "\n",
        "\n",
        "\n"
      ]
    },
    {
      "cell_type": "markdown",
      "metadata": {},
      "source": [
        "## Missing Values\n",
        "The dataset has no missing values across all rows and columns."
      ]
    },
    {
      "cell_type": "code",
      "execution_count": 21,
      "metadata": {},
      "outputs": [
        {
          "name": "stdout",
          "output_type": "stream",
          "text": [
            "PatientId         0\n",
            "AppointmentID     0\n",
            "Gender            0\n",
            "ScheduledDay      0\n",
            "AppointmentDay    0\n",
            "Age               0\n",
            "Neighbourhood     0\n",
            "Scholarship       0\n",
            "Hypertension      0\n",
            "Diabetes          0\n",
            "Alcoholism        0\n",
            "Handcap           0\n",
            "SMS_received      0\n",
            "No-show           0\n",
            "dtype: int64\n"
          ]
        }
      ],
      "source": [
        "# Check for missing values\n",
        "print(data.isnull().sum())"
      ]
    },
    {
      "cell_type": "code",
      "execution_count": null,
      "metadata": {},
      "outputs": [],
      "source": []
    }
  ],
  "metadata": {
    "colab": {
      "provenance": []
    },
    "kernelspec": {
      "display_name": "Python 3",
      "name": "python3"
    },
    "language_info": {
      "codemirror_mode": {
        "name": "ipython",
        "version": 3
      },
      "file_extension": ".py",
      "mimetype": "text/x-python",
      "name": "python",
      "nbconvert_exporter": "python",
      "pygments_lexer": "ipython3",
      "version": "3.12.3"
    }
  },
  "nbformat": 4,
  "nbformat_minor": 0
}
